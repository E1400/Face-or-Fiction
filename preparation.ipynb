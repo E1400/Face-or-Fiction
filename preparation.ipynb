{
  "nbformat": 4,
  "nbformat_minor": 0,
  "metadata": {
    "colab": {
      "provenance": [],
      "machine_shape": "hm"
    },
    "kernelspec": {
      "name": "python3",
      "display_name": "Python 3"
    },
    "language_info": {
      "name": "python"
    }
  },
  "cells": [
    {
      "cell_type": "code",
      "source": [
        "from google.colab import drive\n",
        "drive.mount('/content/drive')\n",
        "\n",
        "%cd /content/drive/MyDrive/COGS181-FinalProject/"
      ],
      "metadata": {
        "id": "-J_xzOgwz548",
        "colab": {
          "base_uri": "https://localhost:8080/"
        },
        "outputId": "c236ee6c-5e70-4361-d762-4a232c8dc353"
      },
      "execution_count": null,
      "outputs": [
        {
          "output_type": "stream",
          "name": "stdout",
          "text": [
            "Drive already mounted at /content/drive; to attempt to forcibly remount, call drive.mount(\"/content/drive\", force_remount=True).\n",
            "/content/drive/MyDrive/COGS181-FinalProject\n"
          ]
        }
      ]
    },
    {
      "cell_type": "code",
      "source": [
        "import os\n",
        "import random\n",
        "import shutil\n",
        "import kagglehub\n",
        "import zipfile\n",
        "from concurrent.futures import ThreadPoolExecutor\n",
        "from PIL import Image"
      ],
      "metadata": {
        "id": "o4x2-Jx4_XVy"
      },
      "execution_count": null,
      "outputs": []
    },
    {
      "cell_type": "markdown",
      "source": [
        "## Loading / Preparing Human Faces (FFHQ) & AI Faces (thispersondoesnotexist) Datasets"
      ],
      "metadata": {
        "id": "oYl5fboh637U"
      }
    },
    {
      "cell_type": "code",
      "source": [
        "# Real Human Faces Dataset (FFHQ)\n",
        "\n",
        "### Randomly select 10,000 images for the sake of training, from the total 70,000 images in the FFHQ dataset.\n",
        "\n",
        "ffhq_path = \"/content/drive/My Drive/COGS181-FinalProject/FFHQ_Images\"\n",
        "real_faces_path = \"/content/drive/My Drive/COGS181-FinalProject/Real_Faces\"\n",
        "\n",
        "image_paths = []\n",
        "for root, _, files in os.walk(ffhq_path):\n",
        "    for file in files:\n",
        "        if file.lower().endswith(('.png')):\n",
        "            image_paths.append(os.path.join(root, file))\n",
        "\n",
        "selected_images = random.sample(image_paths, 10000) # Randomly Selecting 10,000 Images\n",
        "\n",
        "### Save the randomly selected images to a new folder as our training data (Real_Faces).\n",
        "\n",
        "def copy_image(img_path):\n",
        "    filename = os.path.basename(img_path)\n",
        "    destination_path = os.path.join(real_faces_path, filename)\n",
        "    shutil.copy2(img_path, destination_path)\n",
        "\n",
        "with ThreadPoolExecutor(max_workers=10) as executor:\n",
        "    executor.map(copy_image, selected_images)\n",
        "\n",
        "print(\"Selected training images have been saved as Real_Faces.\")"
      ],
      "metadata": {
        "id": "SovlgBYt627B"
      },
      "execution_count": null,
      "outputs": []
    },
    {
      "cell_type": "code",
      "source": [
        "# AI-Generated Faces Dataset (ThisPersonDoesNotExist) - Obtained from: https://www.kaggle.com/datasets/almightyj/person-face-dataset-thispersondoesnotexist\n",
        "\n",
        "# Load Dataset\n",
        "\n",
        "kaggle_path = kagglehub.dataset_download(\"almightyj/person-face-dataset-thispersondoesnotexist\")\n",
        "ai_faces_path = \"/content/drive/My Drive/COGS181-FinalProject/AI_Faces\"\n",
        "\n",
        "if kaggle_path.endswith(\".zip\"):\n",
        "    extract_path = \"/content/AI_Faces_Extracted\"\n",
        "    os.makedirs(extract_path, exist_ok=True)\n",
        "\n",
        "    with zipfile.ZipFile(kaggle_path, 'r') as zip_ref:\n",
        "        zip_ref.extractall(extract_path)\n",
        "\n",
        "    extracted_files = [os.path.join(extract_path, file) for file in os.listdir(extract_path)]\n",
        "\n",
        "    def move_image(file_path):\n",
        "        shutil.move(file_path, ai_faces_path)\n",
        "\n",
        "    with ThreadPoolExecutor(max_workers=10) as executor:\n",
        "        executor.map(move_image, extracted_files)\n",
        "else:\n",
        "    shutil.move(kaggle_path, ai_faces_path)\n",
        "\n",
        "print(\"Selected training images have been saved as AI_Faces.\")"
      ],
      "metadata": {
        "colab": {
          "base_uri": "https://localhost:8080/"
        },
        "id": "V6X4dEBo08R3",
        "outputId": "c8b4ae01-750f-4bb6-974e-706347dc535f"
      },
      "execution_count": null,
      "outputs": [
        {
          "output_type": "stream",
          "name": "stdout",
          "text": [
            "Downloading from https://www.kaggle.com/api/v1/datasets/download/almightyj/person-face-dataset-thispersondoesnotexist?dataset_version_number=1...\n"
          ]
        },
        {
          "output_type": "stream",
          "name": "stderr",
          "text": [
            "100%|██████████| 4.45G/4.45G [00:31<00:00, 154MB/s]"
          ]
        },
        {
          "output_type": "stream",
          "name": "stdout",
          "text": [
            "Extracting files...\n"
          ]
        },
        {
          "output_type": "stream",
          "name": "stderr",
          "text": [
            "\n"
          ]
        },
        {
          "output_type": "stream",
          "name": "stdout",
          "text": [
            "Selected training images have been saved as AI_Faces.\n"
          ]
        }
      ]
    },
    {
      "cell_type": "code",
      "source": [
        "# Converting AI_Faces Images to .png Format\n",
        "\n",
        "ai_faces_path = \"/content/drive/My Drive/COGS181-FinalProject/AI_Faces\"\n",
        "\n",
        "image_paths = [os.path.join(ai_faces_path, f) for f in os.listdir(ai_faces_path) if f.lower().endswith(('.jpg', '.jpeg'))]\n",
        "\n",
        "def convert_and_delete(img_path):\n",
        "    filename = os.path.splitext(os.path.basename(img_path))[0] + \".png\"\n",
        "    destination_path = os.path.join(ai_faces_path, filename)\n",
        "\n",
        "    with Image.open(img_path) as img:\n",
        "        img = img.convert(\"RGB\")\n",
        "        img.save(destination_path, \"PNG\")\n",
        "\n",
        "    os.remove(img_path)\n",
        "\n",
        "with ThreadPoolExecutor(max_workers=10) as executor:\n",
        "    executor.map(convert_and_delete, image_paths)\n",
        "\n",
        "print(\"All .jpg images have been converted to .png\")"
      ],
      "metadata": {
        "colab": {
          "base_uri": "https://localhost:8080/"
        },
        "id": "-nsOcXV_-vXl",
        "outputId": "233dd28f-7a40-47ff-d213-2f14494ff5b1"
      },
      "execution_count": null,
      "outputs": [
        {
          "output_type": "stream",
          "name": "stdout",
          "text": [
            "All .jpg images have been converted to .png.\n"
          ]
        }
      ]
    }
  ]
}